{
 "cells": [
  {
   "cell_type": "markdown",
   "metadata": {},
   "source": [
    "# <a id='Inicio'> </a> _SIMA-B1_\n",
    "---"
   ]
  },
  {
   "cell_type": "markdown",
   "metadata": {},
   "source": [
    "> SIMA-B1-13-A: ring, magnets - bend 1 - sector 13, 1st bending magnet.\n",
    "  - B1/B2/BC : Dipoles for each sector, in this case there are two B1 and two B2. The BC is a permanent magnet;\n",
    ">"
   ]
  },
  {
   "cell_type": "markdown",
   "metadata": {},
   "source": [
    "## Table of Contents"
   ]
  },
  {
   "cell_type": "markdown",
   "metadata": {},
   "source": [
    "- <p><b><a href='#Coil Input'>Coil Input</a></b></p>\n",
    "\n",
    "- <b><a href='#Coil Output'>Coil Output</a></b>\n",
    "    - <a href='#Comprimento de fio por bobina (mm)'>Comprimento de fio por bobina (mm)</a>\n",
    "    - <a href='#Corrente @ 3GeV'>Corrente @ 3GeV</a>\n",
    "    - <a href='#Densidade de corrente (A/mm²)'>Densidade de corrente (A/mm²)</a>\n",
    "    - <a href='#Tensão máxima por ímã (V)'>Tensão máxima por ímã (V)</a>\n",
    "    - <a href='#Tensão máxima por bobina (V)'>Tensão máxima por bobina (V)</a>\n",
    "    \n",
    "- <p><b><a href='#Parâmetros hidráulicos para um ímã'>Hydraulic Input</a></b></p>\n",
    "\n",
    "- <b><a href='#Hydraulic Output'>Hydraulic Output</a></b>\n",
    "    - <a href='#Potência dissipada/bobina (W)'>Potência dissipada/bobina (W)</a>\n",
    "    - <a href='#Vazão/Bobina (l/min)'>Vazão/Bobina (l/min)</a>\n",
    "    - <a href='#Perda de carga total (com 84 curvas)- hf (bar)'>Perda de carga total (com 84 curvas)- hf (bar)</a>\n",
    "    - <a href='#Vazão total em um ímã (l/min)'>Vazão total em um ímã (l/min)</a>"
   ]
  },
  {
   "cell_type": "code",
   "execution_count": 34,
   "metadata": {
    "collapsed": false
   },
   "outputs": [],
   "source": [
    "#Library\n",
    "import numpy as np\n",
    "import pandas as pd\n",
    "import matplotlib.pyplot as plt\n",
    "import matplotlib.image as mpimg\n",
    "import math\n",
    "from sympy import *\n",
    "from pandas import *\n",
    "import IPython.html.widgets\n",
    "#from IPython.html import widgets # Widget definitions\n",
    "from IPython.display import display # Used to display widgets in the notebook\n",
    "init_printing(use_latex='matplotlib')"
   ]
  },
  {
   "cell_type": "code",
   "execution_count": 35,
   "metadata": {
    "collapsed": false
   },
   "outputs": [],
   "source": [
    "#Coil Variables \n",
    "n, m, Nb, N, I, J, Vi_max, Vb_max = symbols('n m N_b N I J Vi_máx Vb_máx')\n",
    "Lm, Wp, R0, R, L, L_coil = symbols('L_m W_p R_0 R L_porImã L_porBobina')\n",
    "D, a, b, r, Rb, R_ima = symbols('D a b r R_b R_ima')\n",
    "a_lin, b_lin = symbols('a\\' b\\'')\n",
    "L_fio = symbols('L_fio')\n",
    "p_i = symbols ('\\pi')\n",
    "Ri, Ro = symbols('R_i R_o')\n",
    "Volume_nuc = symbols ('Volume_nucleo')\n",
    "Sec_util = symbols('Secção_útil')\n",
    "E_mag = symbols('E_magnética')\n",
    "Power, MassaC, MassaA, MassaT = symbols('P_máx Massa_cobre Massa_Aço Massa_total')\n",
    "Ohm = symbols('R_cabo(520m)')\n",
    "Sc = symbols ('Sc')\n",
    "rho = symbols('rho')"
   ]
  },
  {
   "cell_type": "code",
   "execution_count": 36,
   "metadata": {
    "collapsed": false
   },
   "outputs": [],
   "source": [
    "%matplotlib inline"
   ]
  },
  {
   "cell_type": "code",
   "execution_count": 37,
   "metadata": {
    "collapsed": false
   },
   "outputs": [
    {
     "data": {
      "text/html": [
       "<script>\n",
       "code_show=true; \n",
       "function code_toggle() {\n",
       " if (code_show){\n",
       " $('div.input').hide();\n",
       " } else {\n",
       " $('div.input').show();\n",
       " }\n",
       " code_show = !code_show\n",
       "} \n",
       "$( document ).ready(code_toggle);\n",
       "</script>\n",
       "<form action=\"javascript:code_toggle()\"><input type=\"submit\" value=\"Clique aqui para alternar on / off o código fonte\"></form>"
      ],
      "text/plain": [
       "<IPython.core.display.HTML object>"
      ]
     },
     "execution_count": 37,
     "metadata": {},
     "output_type": "execute_result"
    }
   ],
   "source": [
    "from IPython.display import HTML\n",
    "\n",
    "HTML('''<script>\n",
    "code_show=true; \n",
    "function code_toggle() {\n",
    " if (code_show){\n",
    " $('div.input').hide();\n",
    " } else {\n",
    " $('div.input').show();\n",
    " }\n",
    " code_show = !code_show\n",
    "} \n",
    "$( document ).ready(code_toggle);\n",
    "</script>\n",
    "<form action=\"javascript:code_toggle()\"><input type=\"submit\" value=\"Clique aqui para alternar on / off o código fonte\"></form>''')"
   ]
  },
  {
   "cell_type": "markdown",
   "metadata": {},
   "source": [
    "# Coil Input <a id='Coil Input'> </a>"
   ]
  },
  {
   "cell_type": "code",
   "execution_count": 38,
   "metadata": {
    "collapsed": false
   },
   "outputs": [],
   "source": [
    "#Informações Gerais\n",
    "#container_CoilMain = widgets.Box()\n",
    "Nbb = widgets.FloatText(description=\"Nº bobinas: (coil/ímã)\")\n",
    "nn = widgets.FloatText(description=\"Nº camad.:\")\n",
    "mm = widgets.FloatText(description=\"Nº espiras:\")\n",
    "\n",
    "Cont0 = widgets.HBox(children=[Nbb, nn, mm])\n",
    "\n",
    "Nbb.margin=10\n",
    "nn.margin=10\n",
    "mm.margin=10\n",
    "#container_CoilMain.children = [Nbb, nn, mm]"
   ]
  },
  {
   "cell_type": "code",
   "execution_count": 39,
   "metadata": {
    "collapsed": false
   },
   "outputs": [],
   "source": [
    "#Informações Mecânicas\n",
    "Wpp = widgets.FloatText(description=\"wp:(mm)\")\n",
    "Lmm = widgets.FloatText(description=\"Lm: (mm)\") # Lmm = 123 #mm\n",
    "Comp_Ima = widgets.FloatText(description=\"Comp.Ímã: (m)\") #Comp_Ima = 0.150 #m Comprimento do imã\n",
    "R00 = widgets.FloatText(description=\"Ro: (mm)\") #R00 = 16 #mm\n",
    "Dimen_furo = widgets.FloatText(description=\"Dimen.furo: (mm)\") #Dimen_furo = 2.50 #mm Dimensão do furo quadrado\n",
    "aa = widgets.FloatText(description=\"Largura fio: (mm)\") #aa = 5.00 #mm largura do fio\n",
    "bb = widgets.FloatText(description=\"Altura fio: (mm)\") #bb = 5.00 #mm altura do fio\n",
    "rr = widgets.FloatText(description=\"Raio canto: (mm)\") #rr = 0.80 #mm raio do fio\n",
    "Isol_fio = widgets.FloatText(description=\"Isol. fio: (mm)\") #Isol_fio = 0.50 #mm Isolamento do fio\n",
    "Seccao_de_aco = widgets.FloatText(description=\"Sec. aço: (m²)\") #Seccao_de_aco = 0.026 #m²\n",
    "\n",
    "Cont1 = widgets.HBox(children=[Wpp, Lmm, Comp_Ima, R00, Dimen_furo])\n",
    "Cont2 = widgets.HBox(children=[aa, bb, rr, Isol_fio, Seccao_de_aco])\n",
    "Cont3 = widgets.Box(children=[Cont1, Cont2])\n",
    "\n",
    "Wpp.margin=10\n",
    "Lmm.margin=10\n",
    "Comp_Ima.margin=10\n",
    "R00.margin=10\n",
    "Dimen_furo.margin=10\n",
    "aa.margin=10\n",
    "bb.margin=10\n",
    "rr.margin=10\n",
    "Isol_fio.margin=10\n",
    "Seccao_de_aco.margin=10"
   ]
  },
  {
   "cell_type": "code",
   "execution_count": 40,
   "metadata": {
    "collapsed": false
   },
   "outputs": [],
   "source": [
    "#Informações elétricas\n",
    "alert_code = \"\"\"\n",
    "<div class=\"alert alert-{type} alert-dismissible\" role=\"alert\">\n",
    "  <button type=\"button\" class=\"close\" data-dismiss=\"alert\">\n",
    "    <span aria-hidden=\"true\">&times;</span>\n",
    "  </button>\n",
    "  <strong>{title}: </strong>{message}\n",
    "</div>\n",
    "\"\"\"\n",
    "widget_2 = widgets.HTML()\n",
    "NI_maximo = widgets.FloatText(description=\"N*I Máx.: (A.turn)\")#NI_maximo = 1819 #A.turn\n",
    "Energia_magnetica= widgets.FloatText(description=\"Ener. mag: (J)\") #Energia_magnetica = 72 #Joules (3GeV)\n",
    "Numero_de_imas = widgets.FloatText(description=\"Nº Ímãs:\") #Numero_de_imas = 20\n",
    "Freq = widgets.FloatText(description=\"Freq:(Hz)\") #Freq = 0 #Hz\n",
    "gap = widgets.FloatText(description=\"gap:(m)\") #gap = 0.028 #m\n",
    "campo = widgets.FloatText(description=\"campo: (T/m²)\") #campo = 2400 #T/m²\n",
    "button_1 = widgets.Button(description='Ok')\n",
    "button_1.background_color=\"#E6E6E6\"\n",
    "button_1.border_color=\"#A4A4A4\"\n",
    "\n",
    "Cont5 = widgets.HBox(children=[NI_maximo, Energia_magnetica, Numero_de_imas])\n",
    "Cont6 = widgets.HBox(children=[Freq, gap, campo])\n",
    "\n",
    "Cont7 = widgets.Box(children=[Cont5, Cont6,  widget_2, button_1])\n",
    "\n",
    "def save_form1(widget):\n",
    "    if (Nbb.value != 0) & (nn.value != 0) & (mm.value != 0) & (Wpp.value != 0) & (Lmm.value != 0) & (Comp_Ima.value != 0) & (R00.value != 0) & (Dimen_furo.value != 0) & (aa.value != 0) & (bb.value != 0) & (rr.value != 0) & (Isol_fio.value != 0) & (Seccao_de_aco.value != 0) & (NI_maximo.value != 0) & (Energia_magnetica.value != 0) & (Numero_de_imas.value != 0) & (gap.value != 0) & (campo.value != 0):\n",
    "        widget_2.value = alert_code.format(type=\"success\",\n",
    "                                            title=\"Salvo\",\n",
    "                                            message=\"Dados inseridos corretamente.\",\n",
    "                                             )\n",
    "    else:\n",
    "        widget_2.value = alert_code.format(type=\"danger\",\n",
    "                                            title=\"Alerta\",\n",
    "                                            message=\"Dados de entrada incorretos. Verifique se há valores inválidos.\",\n",
    "                                             )\n",
    "\n",
    "button_1.on_click(save_form1)\n",
    "\n",
    "NI_maximo.margin=10\n",
    "Energia_magnetica.margin=10\n",
    "Numero_de_imas.margin=10\n",
    "Freq.margin=10\n",
    "gap.margin=10\n",
    "campo.margin=10\n",
    "\n",
    "Cobre = np.array([8920, 0, 1.72E-08, 1.25664E-06]) #(densidade [kg/m³]; preço[R$/kg]; resistividade [ohm.m]; u0)\n",
    "Aco = np.array([7900, 0, 0, 0]) #(densidade [kg/m³]; preço[R$/kg]; resistividade [ohm.m]; u0)"
   ]
  },
  {
   "cell_type": "code",
   "execution_count": 41,
   "metadata": {
    "collapsed": false
   },
   "outputs": [],
   "source": [
    "tabs = widgets.Tab()\n",
    "tabs.children = [Cont0, Cont3, Cont7]\n",
    "tabs.set_title(0, \"Informações Gerais da Bobina\")\n",
    "tabs.set_title(1, \"Informações Mecânicas\")\n",
    "tabs.set_title(2, \"Informações Elétricas\")\n",
    "tabs"
   ]
  },
  {
   "cell_type": "markdown",
   "metadata": {},
   "source": [
    "##Overview of the input data"
   ]
  },
  {
   "cell_type": "code",
   "execution_count": 42,
   "metadata": {
    "collapsed": false
   },
   "outputs": [],
   "source": [
    "#Initializing Pandas to create table\n",
    "GpGeral = {'Unidade':['coil/ímã','N/A','N/A'],\n",
    "           'Valores': [Nbb.value, nn.value, mm.value],\n",
    "           'Informações Gerais':['Nº bobinas ','Nº camadas','Nº espiras']}\n",
    "           \n",
    "GpMec = {'Unidade':['mm','mm','m','mm','mm','mm','mm','mm','mm','m²'],\n",
    "         'Valores':[Wpp.value, Lmm.value, Comp_Ima.value, R00.value, Dimen_furo.value,\n",
    "                    aa.value, bb.value, rr.value, Isol_fio.value, Seccao_de_aco.value],\n",
    "         'Informações Mecânicas':['Wp','Lm', 'Comprimento do ímã','Ro','Dimensão do furo','Largura do fio', 'Altura do fio',\n",
    "                                  'Raio do canto','Isolamento do fio', 'Secção de aço (polo)']}\n",
    "\n",
    "GpElec = {'Unidade':['A.turn','J','N/A','Hz','m','T/m²'],\n",
    "          'Valores':[NI_maximo.value, Energia_magnetica.value, Numero_de_imas.value, Freq.value, gap.value, campo.value],\n",
    "          'Informações Elétricas':['N*I Máximo','Energia magnética','Número de ímãs','Frequência','gap','campo']}"
   ]
  },
  {
   "cell_type": "code",
   "execution_count": 43,
   "metadata": {
    "collapsed": false,
    "scrolled": true
   },
   "outputs": [
    {
     "data": {
      "text/html": [
       "<div style=\"max-height:1000px;max-width:1500px;overflow:auto;\">\n",
       "<table border=\"1\" class=\"dataframe\">\n",
       "  <thead>\n",
       "    <tr style=\"text-align: right;\">\n",
       "      <th></th>\n",
       "      <th>Informações Gerais</th>\n",
       "      <th>Unidade</th>\n",
       "      <th>Valores</th>\n",
       "    </tr>\n",
       "  </thead>\n",
       "  <tbody>\n",
       "    <tr>\n",
       "      <th>0</th>\n",
       "      <td> Nº bobinas </td>\n",
       "      <td> coil/ímã</td>\n",
       "      <td> 0</td>\n",
       "    </tr>\n",
       "    <tr>\n",
       "      <th>1</th>\n",
       "      <td>  Nº camadas</td>\n",
       "      <td>      N/A</td>\n",
       "      <td> 0</td>\n",
       "    </tr>\n",
       "    <tr>\n",
       "      <th>2</th>\n",
       "      <td>  Nº espiras</td>\n",
       "      <td>      N/A</td>\n",
       "      <td> 0</td>\n",
       "    </tr>\n",
       "  </tbody>\n",
       "</table>\n",
       "</div>"
      ],
      "text/plain": [
       "  Informações Gerais   Unidade  Valores\n",
       "0        Nº bobinas   coil/ímã        0\n",
       "1         Nº camadas       N/A        0\n",
       "2         Nº espiras       N/A        0"
      ]
     },
     "execution_count": 43,
     "metadata": {},
     "output_type": "execute_result"
    }
   ],
   "source": [
    "DataFrame(GpGeral)"
   ]
  },
  {
   "cell_type": "code",
   "execution_count": 44,
   "metadata": {
    "collapsed": false
   },
   "outputs": [
    {
     "data": {
      "text/html": [
       "<div style=\"max-height:1000px;max-width:1500px;overflow:auto;\">\n",
       "<table border=\"1\" class=\"dataframe\">\n",
       "  <thead>\n",
       "    <tr style=\"text-align: right;\">\n",
       "      <th></th>\n",
       "      <th>Informações Mecânicas</th>\n",
       "      <th>Unidade</th>\n",
       "      <th>Valores</th>\n",
       "    </tr>\n",
       "  </thead>\n",
       "  <tbody>\n",
       "    <tr>\n",
       "      <th>0</th>\n",
       "      <td>                   Wp</td>\n",
       "      <td> mm</td>\n",
       "      <td> 0</td>\n",
       "    </tr>\n",
       "    <tr>\n",
       "      <th>1</th>\n",
       "      <td>                   Lm</td>\n",
       "      <td> mm</td>\n",
       "      <td> 0</td>\n",
       "    </tr>\n",
       "    <tr>\n",
       "      <th>2</th>\n",
       "      <td>   Comprimento do ímã</td>\n",
       "      <td>  m</td>\n",
       "      <td> 0</td>\n",
       "    </tr>\n",
       "    <tr>\n",
       "      <th>3</th>\n",
       "      <td>                   Ro</td>\n",
       "      <td> mm</td>\n",
       "      <td> 0</td>\n",
       "    </tr>\n",
       "    <tr>\n",
       "      <th>4</th>\n",
       "      <td>     Dimensão do furo</td>\n",
       "      <td> mm</td>\n",
       "      <td> 0</td>\n",
       "    </tr>\n",
       "    <tr>\n",
       "      <th>5</th>\n",
       "      <td>       Largura do fio</td>\n",
       "      <td> mm</td>\n",
       "      <td> 0</td>\n",
       "    </tr>\n",
       "    <tr>\n",
       "      <th>6</th>\n",
       "      <td>        Altura do fio</td>\n",
       "      <td> mm</td>\n",
       "      <td> 0</td>\n",
       "    </tr>\n",
       "    <tr>\n",
       "      <th>7</th>\n",
       "      <td>        Raio do canto</td>\n",
       "      <td> mm</td>\n",
       "      <td> 0</td>\n",
       "    </tr>\n",
       "    <tr>\n",
       "      <th>8</th>\n",
       "      <td>    Isolamento do fio</td>\n",
       "      <td> mm</td>\n",
       "      <td> 0</td>\n",
       "    </tr>\n",
       "    <tr>\n",
       "      <th>9</th>\n",
       "      <td> Secção de aço (polo)</td>\n",
       "      <td> m²</td>\n",
       "      <td> 0</td>\n",
       "    </tr>\n",
       "  </tbody>\n",
       "</table>\n",
       "</div>"
      ],
      "text/plain": [
       "  Informações Mecânicas Unidade  Valores\n",
       "0                    Wp      mm        0\n",
       "1                    Lm      mm        0\n",
       "2    Comprimento do ímã       m        0\n",
       "3                    Ro      mm        0\n",
       "4      Dimensão do furo      mm        0\n",
       "5        Largura do fio      mm        0\n",
       "6         Altura do fio      mm        0\n",
       "7         Raio do canto      mm        0\n",
       "8     Isolamento do fio      mm        0\n",
       "9  Secção de aço (polo)      m²        0"
      ]
     },
     "execution_count": 44,
     "metadata": {},
     "output_type": "execute_result"
    }
   ],
   "source": [
    "DataFrame(GpMec)"
   ]
  },
  {
   "cell_type": "code",
   "execution_count": 45,
   "metadata": {
    "collapsed": false
   },
   "outputs": [
    {
     "data": {
      "text/html": [
       "<div style=\"max-height:1000px;max-width:1500px;overflow:auto;\">\n",
       "<table border=\"1\" class=\"dataframe\">\n",
       "  <thead>\n",
       "    <tr style=\"text-align: right;\">\n",
       "      <th></th>\n",
       "      <th>Informações Elétricas</th>\n",
       "      <th>Unidade</th>\n",
       "      <th>Valores</th>\n",
       "    </tr>\n",
       "  </thead>\n",
       "  <tbody>\n",
       "    <tr>\n",
       "      <th>0</th>\n",
       "      <td>        N*I Máximo</td>\n",
       "      <td> A.turn</td>\n",
       "      <td> 0</td>\n",
       "    </tr>\n",
       "    <tr>\n",
       "      <th>1</th>\n",
       "      <td> Energia magnética</td>\n",
       "      <td>      J</td>\n",
       "      <td> 0</td>\n",
       "    </tr>\n",
       "    <tr>\n",
       "      <th>2</th>\n",
       "      <td>    Número de ímãs</td>\n",
       "      <td>    N/A</td>\n",
       "      <td> 0</td>\n",
       "    </tr>\n",
       "    <tr>\n",
       "      <th>3</th>\n",
       "      <td>        Frequência</td>\n",
       "      <td>     Hz</td>\n",
       "      <td> 0</td>\n",
       "    </tr>\n",
       "    <tr>\n",
       "      <th>4</th>\n",
       "      <td>               gap</td>\n",
       "      <td>      m</td>\n",
       "      <td> 0</td>\n",
       "    </tr>\n",
       "    <tr>\n",
       "      <th>5</th>\n",
       "      <td>             campo</td>\n",
       "      <td>   T/m²</td>\n",
       "      <td> 0</td>\n",
       "    </tr>\n",
       "  </tbody>\n",
       "</table>\n",
       "</div>"
      ],
      "text/plain": [
       "  Informações Elétricas Unidade  Valores\n",
       "0            N*I Máximo  A.turn        0\n",
       "1     Energia magnética       J        0\n",
       "2        Número de ímãs     N/A        0\n",
       "3            Frequência      Hz        0\n",
       "4                   gap       m        0\n",
       "5                 campo    T/m²        0"
      ]
     },
     "execution_count": 45,
     "metadata": {},
     "output_type": "execute_result"
    }
   ],
   "source": [
    "DataFrame(GpElec)"
   ]
  },
  {
   "cell_type": "code",
   "execution_count": 46,
   "metadata": {
    "collapsed": false
   },
   "outputs": [],
   "source": [
    "#tabs.set_title(0, \"Informações Gerais da Bobina\")\n",
    "#tabs.set_title(1, \"Informações Mecânicas\")\n",
    "#tabs.set_title(2, \"Informações Elétricas\")"
   ]
  },
  {
   "cell_type": "code",
   "execution_count": 47,
   "metadata": {
    "collapsed": false
   },
   "outputs": [],
   "source": [
    "#img=mpimg.imread('R:/Grupos/IMA/Lucas/IMAs/Bobina_IMAs.png')\n",
    "#imgplot = plt.imshow(img)"
   ]
  },
  {
   "cell_type": "code",
   "execution_count": 48,
   "metadata": {
    "collapsed": false
   },
   "outputs": [],
   "source": [
    "#imge=mpimg.imread('R:/Grupos/IMA/Lucas/IMAs/Seccao_fio.png')\n",
    "#imgplot = plt.imshow(imge)"
   ]
  },
  {
   "cell_type": "markdown",
   "metadata": {},
   "source": [
    "---\n",
    "# Coil Output<a id='Coil Output'> </a>\n",
    "---"
   ]
  },
  {
   "cell_type": "markdown",
   "metadata": {},
   "source": [
    "## Equation $L_{fio}$"
   ]
  },
  {
   "cell_type": "code",
   "execution_count": 49,
   "metadata": {
    "collapsed": false
   },
   "outputs": [
    {
     "data": {
      "text/plain": [
       "L_fio == 2*m*n*(L_m - 2*R_0 + W_p + \\pi*(R_0 + a'*m/2))"
      ]
     },
     "execution_count": 49,
     "metadata": {},
     "output_type": "execute_result"
    }
   ],
   "source": [
    "Lfio = Eq(L_fio,2*n*m*(Lm +Wp -2*R0 + p_i*(R0+a_lin*m/2)))\n",
    "Lfio"
   ]
  },
  {
   "cell_type": "markdown",
   "metadata": {},
   "source": [
    "### Produto das camadas por espiras"
   ]
  },
  {
   "cell_type": "code",
   "execution_count": 50,
   "metadata": {
    "collapsed": false
   },
   "outputs": [
    {
     "data": {
      "text/plain": [
       "N == 0.0"
      ]
     },
     "execution_count": 50,
     "metadata": {},
     "output_type": "execute_result"
    }
   ],
   "source": [
    "Num = Eq(N,nn.value*mm.value)\n",
    "Num"
   ]
  },
  {
   "cell_type": "markdown",
   "metadata": {},
   "source": [
    "### Diâmetro equivalente (mm)"
   ]
  },
  {
   "cell_type": "code",
   "execution_count": 51,
   "metadata": {
    "collapsed": false
   },
   "outputs": [
    {
     "data": {
      "text/plain": [
       "D == 0.0"
      ]
     },
     "execution_count": 51,
     "metadata": {},
     "output_type": "execute_result"
    }
   ],
   "source": [
    "Dia = Eq(D,2*Dimen_furo.value/(np.pi)**(1/2))\n",
    "Dia"
   ]
  },
  {
   "cell_type": "markdown",
   "metadata": {},
   "source": [
    "### a'(com isolamento) (mm)"
   ]
  },
  {
   "cell_type": "code",
   "execution_count": 52,
   "metadata": {
    "collapsed": false
   },
   "outputs": [
    {
     "data": {
      "text/plain": [
       "a' == 0.0"
      ]
     },
     "execution_count": 52,
     "metadata": {},
     "output_type": "execute_result"
    }
   ],
   "source": [
    "alinha = Eq(a_lin,aa.value+Isol_fio.value*2)\n",
    "alinha"
   ]
  },
  {
   "cell_type": "markdown",
   "metadata": {},
   "source": [
    "### b'(com isolamento) (mm)"
   ]
  },
  {
   "cell_type": "code",
   "execution_count": 53,
   "metadata": {
    "collapsed": false
   },
   "outputs": [
    {
     "data": {
      "text/plain": [
       "b' == 0.0"
      ]
     },
     "execution_count": 53,
     "metadata": {},
     "output_type": "execute_result"
    }
   ],
   "source": [
    "blinha = Eq(b_lin,bb.value+Isol_fio.value*2)\n",
    "blinha"
   ]
  },
  {
   "cell_type": "markdown",
   "metadata": {},
   "source": [
    "### Volume do núcleo (m³)"
   ]
  },
  {
   "cell_type": "code",
   "execution_count": 54,
   "metadata": {
    "collapsed": false
   },
   "outputs": [
    {
     "data": {
      "text/plain": [
       "Volume_nucleo == 0.0"
      ]
     },
     "execution_count": 54,
     "metadata": {},
     "output_type": "execute_result"
    }
   ],
   "source": [
    "Volnucleo = Eq(Volume_nuc, (Lmm.value/1000)*Seccao_de_aco.value)\n",
    "Volnucleo"
   ]
  },
  {
   "cell_type": "code",
   "execution_count": 55,
   "metadata": {
    "collapsed": false
   },
   "outputs": [],
   "source": [
    "#Dimensões físicas da bobina\n",
    "alt = nn.value*(bb.value+2*Isol_fio.value)+2   #altura do fio\n",
    "larg = mm.value*(aa.value+2*Isol_fio.value)+2   #largura do fio"
   ]
  },
  {
   "cell_type": "markdown",
   "metadata": {},
   "source": [
    "### Comprimento de fio por bobina (mm) <a id='Comprimento de fio por bobina (mm)'> </a>"
   ]
  },
  {
   "cell_type": "code",
   "execution_count": 56,
   "metadata": {
    "collapsed": false
   },
   "outputs": [
    {
     "data": {
      "text/plain": [
       "0"
      ]
     },
     "execution_count": 56,
     "metadata": {},
     "output_type": "execute_result"
    }
   ],
   "source": [
    "Len = Lfio.rhs.subs({m:mm.value, n:nn.value, Lm:Lmm.value, Wp:Wpp.value,\n",
    "                     R0:R00.value, p_i:np.pi, a_lin:alinha.rhs})\n",
    "Len"
   ]
  },
  {
   "cell_type": "markdown",
   "metadata": {},
   "source": [
    "### Secção de cobre do fio (mm²)"
   ]
  },
  {
   "cell_type": "code",
   "execution_count": 57,
   "metadata": {
    "collapsed": false
   },
   "outputs": [
    {
     "data": {
      "text/plain": [
       "Sc == -D**2*\\pi/4 + R**2*(\\pi - 4) + a*b"
      ]
     },
     "execution_count": 57,
     "metadata": {},
     "output_type": "execute_result"
    }
   ],
   "source": [
    "SecCobre = Eq(Sc,b*a-(p_i*(D)**2/4)-(4-p_i)*R**2)\n",
    "SecC = SecCobre.simplify()\n",
    "SecC"
   ]
  },
  {
   "cell_type": "code",
   "execution_count": 58,
   "metadata": {
    "collapsed": false
   },
   "outputs": [
    {
     "data": {
      "text/plain": [
       "0"
      ]
     },
     "execution_count": 58,
     "metadata": {},
     "output_type": "execute_result"
    }
   ],
   "source": [
    "SecCu = SecC.rhs.subs({D:Dia.rhs, p_i:np.pi, R:rr.value, a:aa.value, b:bb.value})\n",
    "SecCu"
   ]
  },
  {
   "cell_type": "markdown",
   "metadata": {},
   "source": [
    "### Secção de Cobre/Área total do fio (%)"
   ]
  },
  {
   "cell_type": "code",
   "execution_count": 59,
   "metadata": {
    "collapsed": false
   },
   "outputs": [
    {
     "data": {
      "text/plain": [
       "nan"
      ]
     },
     "execution_count": 59,
     "metadata": {},
     "output_type": "execute_result"
    }
   ],
   "source": [
    "Porcent = SecCu/(aa.value*bb.value)*100\n",
    "Porcent"
   ]
  },
  {
   "cell_type": "markdown",
   "metadata": {},
   "source": [
    "### Seção útil bobina/isolamento (%)"
   ]
  },
  {
   "cell_type": "code",
   "execution_count": 60,
   "metadata": {
    "collapsed": false
   },
   "outputs": [
    {
     "data": {
      "text/plain": [
       "Secção_útil == N*(-R**2*(-\\pi + 4) + a*b)/(R_i*R_o)"
      ]
     },
     "execution_count": 60,
     "metadata": {},
     "output_type": "execute_result"
    }
   ],
   "source": [
    "SecUtil = Eq(Sec_util,(b*a-(4-p_i)*R**2)*N/(Ro*Ri))\n",
    "SecUtil"
   ]
  },
  {
   "cell_type": "code",
   "execution_count": 61,
   "metadata": {
    "collapsed": false
   },
   "outputs": [
    {
     "data": {
      "text/plain": [
       "0"
      ]
     },
     "execution_count": 61,
     "metadata": {},
     "output_type": "execute_result"
    }
   ],
   "source": [
    "SecUtl = SecUtil.rhs.subs({N:Num.rhs, R:rr.value, p_i:np.pi, a:aa.value,\n",
    "                           b:bb.value, Ro:alt, Ri:larg})*100\n",
    "SecUtl"
   ]
  },
  {
   "cell_type": "markdown",
   "metadata": {},
   "source": [
    "### Resistência por bobina ($\\Omega$)"
   ]
  },
  {
   "cell_type": "code",
   "execution_count": 62,
   "metadata": {
    "collapsed": false
   },
   "outputs": [
    {
     "data": {
      "text/plain": [
       "R_b == L_fio*rho/Sc"
      ]
     },
     "execution_count": 62,
     "metadata": {},
     "output_type": "execute_result"
    }
   ],
   "source": [
    "Res = Eq(Rb,rho*Lfio.lhs/Sc).simplify() #segunda Lei de Ohm\n",
    "Res"
   ]
  },
  {
   "cell_type": "code",
   "execution_count": 63,
   "metadata": {
    "collapsed": false
   },
   "outputs": [
    {
     "data": {
      "text/plain": [
       "0"
      ]
     },
     "execution_count": 63,
     "metadata": {},
     "output_type": "execute_result"
    }
   ],
   "source": [
    "Resistencia = Res.rhs.subs({rho:Cobre[2], Lfio.lhs:Len*10**3, Sc:SecCu})\n",
    "Resistencia\n"
   ]
  },
  {
   "cell_type": "markdown",
   "metadata": {},
   "source": [
    "### Resistência/Ímã ($\\Omega$)"
   ]
  },
  {
   "cell_type": "code",
   "execution_count": 64,
   "metadata": {
    "collapsed": false
   },
   "outputs": [
    {
     "data": {
      "text/plain": [
       "R_ima == N_b*R_b"
      ]
     },
     "execution_count": 64,
     "metadata": {},
     "output_type": "execute_result"
    }
   ],
   "source": [
    "R_i = Eq(R_ima,Nb*Rb)\n",
    "R_i"
   ]
  },
  {
   "cell_type": "code",
   "execution_count": 65,
   "metadata": {
    "collapsed": false
   },
   "outputs": [
    {
     "data": {
      "text/plain": [
       "0"
      ]
     },
     "execution_count": 65,
     "metadata": {},
     "output_type": "execute_result"
    }
   ],
   "source": [
    "Rima = R_i.rhs.subs({Nb:Nbb.value, Rb:Resistencia}) \n",
    "Rima"
   ]
  },
  {
   "cell_type": "markdown",
   "metadata": {},
   "source": [
    "### Corrente @ 3GeV (A) <a id='Corrente @ 3GeV'> </a>"
   ]
  },
  {
   "cell_type": "code",
   "execution_count": 66,
   "metadata": {
    "collapsed": false
   },
   "outputs": [
    {
     "data": {
      "text/plain": [
       "I == nan"
      ]
     },
     "execution_count": 66,
     "metadata": {},
     "output_type": "execute_result"
    }
   ],
   "source": [
    "Corrente = Eq(I,NI_maximo.value/Num.rhs)\n",
    "Corrente"
   ]
  },
  {
   "cell_type": "markdown",
   "metadata": {},
   "source": [
    "### Densidade de corrente (A/mm²) <a id='Densidade de corrente (A/mm²)'> </a>"
   ]
  },
  {
   "cell_type": "code",
   "execution_count": 67,
   "metadata": {
    "collapsed": false
   },
   "outputs": [
    {
     "data": {
      "text/plain": [
       "J == nan"
      ]
     },
     "execution_count": 67,
     "metadata": {},
     "output_type": "execute_result"
    }
   ],
   "source": [
    "densidade = Eq(J,Corrente.rhs/SecCu)\n",
    "densidade"
   ]
  },
  {
   "cell_type": "markdown",
   "metadata": {},
   "source": [
    "### Tensão máxima por ímã (V) <a id='Tensão máxima por ímã (V)'> </a>"
   ]
  },
  {
   "cell_type": "code",
   "execution_count": 68,
   "metadata": {
    "collapsed": false
   },
   "outputs": [
    {
     "data": {
      "text/plain": [
       "Vi_máx == nan"
      ]
     },
     "execution_count": 68,
     "metadata": {},
     "output_type": "execute_result"
    }
   ],
   "source": [
    "Tensao_ima = Eq(Vi_max,Corrente.rhs*Rima)\n",
    "Tensao_ima"
   ]
  },
  {
   "cell_type": "markdown",
   "metadata": {},
   "source": [
    "### Tensão máxima por bobina (V) <a id='Tensão máxima por bobina (V)'> </a>"
   ]
  },
  {
   "cell_type": "code",
   "execution_count": 69,
   "metadata": {
    "collapsed": false
   },
   "outputs": [
    {
     "data": {
      "text/plain": [
       "Vb_máx == nan"
      ]
     },
     "execution_count": 69,
     "metadata": {},
     "output_type": "execute_result"
    }
   ],
   "source": [
    "Tensao_bobina = Eq(Vb_max,Tensao_ima.rhs/Nbb.value) \n",
    "Tensao_bobina"
   ]
  },
  {
   "cell_type": "markdown",
   "metadata": {},
   "source": [
    "### Indutância por ímã (H)"
   ]
  },
  {
   "cell_type": "code",
   "execution_count": 70,
   "metadata": {
    "collapsed": false
   },
   "outputs": [
    {
     "data": {
      "text/plain": [
       "L_porImã == 2*E_magnética/I**2"
      ]
     },
     "execution_count": 70,
     "metadata": {},
     "output_type": "execute_result"
    }
   ],
   "source": [
    "Indut = Eq(L, 2*E_mag/I**2)\n",
    "Indut"
   ]
  },
  {
   "cell_type": "code",
   "execution_count": 71,
   "metadata": {
    "collapsed": false
   },
   "outputs": [
    {
     "data": {
      "text/plain": [
       "0"
      ]
     },
     "execution_count": 71,
     "metadata": {},
     "output_type": "execute_result"
    }
   ],
   "source": [
    "Indutancia=Indut.rhs.subs({E_mag:Energia_magnetica.value, I:Corrente.rhs}).doit()\n",
    "Indutancia\n"
   ]
  },
  {
   "cell_type": "markdown",
   "metadata": {},
   "source": [
    "### Indutância por bobina (H)"
   ]
  },
  {
   "cell_type": "code",
   "execution_count": 72,
   "metadata": {
    "collapsed": false
   },
   "outputs": [
    {
     "data": {
      "text/plain": [
       "L_porBobina == L_porImã/N_b"
      ]
     },
     "execution_count": 72,
     "metadata": {},
     "output_type": "execute_result"
    }
   ],
   "source": [
    "Indut_bobina = Eq(L_coil, L/Nb)\n",
    "Indut_bobina"
   ]
  },
  {
   "cell_type": "code",
   "execution_count": 73,
   "metadata": {
    "collapsed": false
   },
   "outputs": [
    {
     "data": {
      "text/plain": [
       "0"
      ]
     },
     "execution_count": 73,
     "metadata": {},
     "output_type": "execute_result"
    }
   ],
   "source": [
    "IndCoil = Indut_bobina.rhs.subs({L:Indutancia, Nb:Nbb.value})\n",
    "IndCoil"
   ]
  },
  {
   "cell_type": "markdown",
   "metadata": {},
   "source": [
    "### Potência Máxima (W)"
   ]
  },
  {
   "cell_type": "code",
   "execution_count": 74,
   "metadata": {
    "collapsed": false
   },
   "outputs": [
    {
     "data": {
      "text/plain": [
       "P_máx == nan"
      ]
     },
     "execution_count": 74,
     "metadata": {},
     "output_type": "execute_result"
    }
   ],
   "source": [
    "Potencia = Eq(Power, Corrente.rhs*Tensao_ima.rhs)\n",
    "Potencia"
   ]
  },
  {
   "cell_type": "markdown",
   "metadata": {},
   "source": [
    "### Massa de cobre por ímã (kg)"
   ]
  },
  {
   "cell_type": "code",
   "execution_count": 75,
   "metadata": {
    "collapsed": false
   },
   "outputs": [
    {
     "data": {
      "text/plain": [
       "Massa_cobre == 0"
      ]
     },
     "execution_count": 75,
     "metadata": {},
     "output_type": "execute_result"
    }
   ],
   "source": [
    "Mass = Eq(MassaC, Nbb.value*Cobre[0]*(Len/1000)*SecCu*10**-6)\n",
    "Mass"
   ]
  },
  {
   "cell_type": "markdown",
   "metadata": {},
   "source": [
    "### Massa de aço por ímã (kg)"
   ]
  },
  {
   "cell_type": "code",
   "execution_count": 76,
   "metadata": {
    "collapsed": false
   },
   "outputs": [
    {
     "data": {
      "text/plain": [
       "Massa_Aço == 0"
      ]
     },
     "execution_count": 76,
     "metadata": {},
     "output_type": "execute_result"
    }
   ],
   "source": [
    "Massa = Eq(MassaA, Nbb.value*Aco[0]*Volnucleo.rhs)\n",
    "Massa"
   ]
  },
  {
   "cell_type": "markdown",
   "metadata": {},
   "source": [
    "### Massa total do ímã (kg)"
   ]
  },
  {
   "cell_type": "code",
   "execution_count": 77,
   "metadata": {
    "collapsed": false
   },
   "outputs": [
    {
     "data": {
      "text/plain": [
       "Massa_total == 0"
      ]
     },
     "execution_count": 77,
     "metadata": {},
     "output_type": "execute_result"
    }
   ],
   "source": [
    "Massa_total = Eq(MassaT, Mass.rhs+Massa.rhs)\n",
    "Massa_total"
   ]
  },
  {
   "cell_type": "markdown",
   "metadata": {},
   "source": [
    "### Comprimento de fio/ímã (m)"
   ]
  },
  {
   "cell_type": "code",
   "execution_count": 78,
   "metadata": {
    "collapsed": false
   },
   "outputs": [
    {
     "data": {
      "text/plain": [
       "0"
      ]
     },
     "execution_count": 78,
     "metadata": {},
     "output_type": "execute_result"
    }
   ],
   "source": [
    "Total_Length = Nbb.value*Len/1000\n",
    "Total_Length"
   ]
  },
  {
   "cell_type": "markdown",
   "metadata": {},
   "source": [
    "### Tensão max. para 40 ímãs (V)"
   ]
  },
  {
   "cell_type": "code",
   "execution_count": 79,
   "metadata": {
    "collapsed": false
   },
   "outputs": [
    {
     "data": {
      "text/plain": [
       "nan"
      ]
     },
     "execution_count": 79,
     "metadata": {},
     "output_type": "execute_result"
    }
   ],
   "source": [
    "V_max = Numero_de_imas.value*Tensao_ima.rhs\n",
    "V_max"
   ]
  },
  {
   "cell_type": "markdown",
   "metadata": {},
   "source": [
    "### Número de cabos em paralelo"
   ]
  },
  {
   "cell_type": "code",
   "execution_count": 80,
   "metadata": {
    "collapsed": false
   },
   "outputs": [
    {
     "data": {
      "text/plain": [
       "2"
      ]
     },
     "execution_count": 80,
     "metadata": {},
     "output_type": "execute_result"
    }
   ],
   "source": [
    "Parallel_Cables = 2\n",
    "Parallel_Cables"
   ]
  },
  {
   "cell_type": "markdown",
   "metadata": {},
   "source": [
    "### Seção do cabo (mm²)"
   ]
  },
  {
   "cell_type": "code",
   "execution_count": 81,
   "metadata": {
    "collapsed": false
   },
   "outputs": [
    {
     "data": {
      "text/plain": [
       "95"
      ]
     },
     "execution_count": 81,
     "metadata": {},
     "output_type": "execute_result"
    }
   ],
   "source": [
    "SeCable = 95\n",
    "SeCable"
   ]
  },
  {
   "cell_type": "markdown",
   "metadata": {},
   "source": [
    "### Resistência do cabo(520m*2; 1x95)($\\Omega$)"
   ]
  },
  {
   "cell_type": "code",
   "execution_count": 82,
   "metadata": {
    "collapsed": false
   },
   "outputs": [
    {
     "data": {
      "text/plain": [
       "R_cabo(520m) == 0.0941473684210526"
      ]
     },
     "execution_count": 82,
     "metadata": {},
     "output_type": "execute_result"
    }
   ],
   "source": [
    "cable_resistense = Eq(Ohm, Cobre[2]*520*2/(Parallel_Cables*SeCable*10**-6))\n",
    "cable_resistense"
   ]
  },
  {
   "cell_type": "markdown",
   "metadata": {},
   "source": [
    "### Tensão máx. no cabo (V)"
   ]
  },
  {
   "cell_type": "code",
   "execution_count": 83,
   "metadata": {
    "collapsed": false
   },
   "outputs": [
    {
     "data": {
      "text/plain": [
       "nan"
      ]
     },
     "execution_count": 83,
     "metadata": {},
     "output_type": "execute_result"
    }
   ],
   "source": [
    "Voltsmax = cable_resistense.rhs*Corrente.rhs\n",
    "Voltsmax"
   ]
  },
  {
   "cell_type": "markdown",
   "metadata": {},
   "source": [
    "### Max. da fonte 40 ímas @0.0 Hz + cabos"
   ]
  },
  {
   "cell_type": "code",
   "execution_count": 84,
   "metadata": {
    "collapsed": false
   },
   "outputs": [
    {
     "data": {
      "text/plain": [
       "nan"
      ]
     },
     "execution_count": 84,
     "metadata": {},
     "output_type": "execute_result"
    }
   ],
   "source": [
    "Max = Voltsmax+V_max\n",
    "Max"
   ]
  },
  {
   "cell_type": "markdown",
   "metadata": {},
   "source": [
    "# Hydraulic Parameters \n",
    "---"
   ]
  },
  {
   "cell_type": "code",
   "execution_count": 85,
   "metadata": {
    "collapsed": false
   },
   "outputs": [],
   "source": [
    "Vz, Vb, Ti, To, epsilon, Pot, V, f = symbols('\\phi_total \\phi_bobina T_in T_out \\epsilon P V f_Haaland')\n",
    "gam =symbols('\\gamma')\n",
    "D_cond = symbols('D_condutor')\n",
    "area = symbols('Area_cond.')\n",
    "D_in = symbols('D_interno')\n",
    "MassaEsp = symbols('M_{H_2O}')\n",
    "CalorEsp = symbols('c_{H_2O}')\n",
    "Re, Visco = symbols('Re \\mu')\n",
    "D_hidra = symbols('D_hidráulico')\n",
    "Pd, Ncurv = symbols('Perda_carga N_curvas')"
   ]
  },
  {
   "cell_type": "markdown",
   "metadata": {},
   "source": [
    "## Hydraulic Input <a id='Parâmetros hidráulicos para um ímã'>  </a>"
   ]
  },
  {
   "cell_type": "code",
   "execution_count": 86,
   "metadata": {
    "collapsed": false
   },
   "outputs": [],
   "source": [
    "from IPython.html import widgets # Widget definitions\n",
    "from IPython.display import display # Used to display widgets in the notebook\n",
    "import re\n",
    "\n",
    "alert_code = \"\"\"\n",
    "<div class=\"alert alert-{type} alert-dismissible\" role=\"alert\">\n",
    "  <button type=\"button\" class=\"close\" data-dismiss=\"alert\">\n",
    "    <span aria-hidden=\"true\">&times;</span>\n",
    "  </button>\n",
    "  <strong>{title}: </strong>{message}\n",
    "</div>\n",
    "\"\"\"\n",
    "widget_1 = widgets.HTML()\n",
    "tii = widgets.FloatText(description=\"Temp.Ini.(ºC):\") #20 ºC\n",
    "too = widgets.FloatText(description=\"Temp.Final(ºC):\") #28 ºC\n",
    "Rug = widgets.FloatText(description=\"Rugosid.(m):\") # 2.5E-06 m\n",
    "calor= widgets.FloatText(description=\"Calor espc.J/(kg.ºC):\") #4190 J/(kg.ºC) \n",
    "massaEspec = widgets.FloatText(description=\"Massa espc.(kg/m³):\") #1000 kg/m³\n",
    "visco = widgets.FloatText(description=\"Visco.(m²/s):\") # 9.13E-07 m²/s\n",
    "minor = widgets.FloatText(description=\"Minor loss c.:\") # 0.15\n",
    "Inmax = widgets.FloatText(description=\"Entrada máx(bar):\") # 8 bar\n",
    "Retmin = widgets.FloatText(description=\"Retorno mín(bar):\") # 0.5 bar\n",
    "condut = widgets.FloatText(description=\"Condutivid. W/(m.K):\") #0.564 W/(m.K)\n",
    "Botao = widgets.Button(description=\"Ok\")\n",
    "\n",
    "def save_form(widget):\n",
    "    if (tii.value != 0) & (too.value != 0) & (Rug.value != 0) & (calor.value != 0) & (massaEspec.value != 0) & (visco.value != 0) & (minor.value != 0) & (Inmax.value != 0) & (Retmin.value != 0) & (condut.value != 0):\n",
    "        widget_1.value = alert_code.format(type=\"success\",\n",
    "                                            title=\"Salvo\",\n",
    "                                            message=\"Dados inseridos corretamente.\",\n",
    "                                             )\n",
    "    else:\n",
    "        widget_1.value = alert_code.format(type=\"danger\",\n",
    "                                            title=\"Alerta\",\n",
    "                                            message=\"Dados de entrada incorretos. Verifique se há valores inválidos.\",\n",
    "                                              )\n",
    "\n",
    "Botao.on_click(save_form)\n",
    "\n",
    "Conta1 = widgets.HBox(children=[tii, too, Rug, calor, massaEspec])\n",
    "Conta1.align='center'\n",
    "Conta2 = widgets.HBox(children=[visco, minor, Inmax, Retmin, condut])\n",
    "Conta2.align='center'\n",
    "Conta3 = widgets.Box(children=[widget_1, Conta1, Conta2, Botao])\n",
    "\n",
    "tii.margin=15\n",
    "too.margin=15\n",
    "Rug.margin=15\n",
    "calor.margin=15\n",
    "massaEspec.margin=15\n",
    "visco.magin=15\n",
    "minor.margin=15\n",
    "Inmax.margin=15\n",
    "Retmin.margin=15\n",
    "condut.margin=15\n",
    "\n",
    "tabe = widgets.Tab()\n",
    "tabe.children = [Conta3]\n",
    "tabe.set_title(0, \"Informações Hidráulicas\")\n",
    "tabe"
   ]
  },
  {
   "cell_type": "markdown",
   "metadata": {},
   "source": [
    "##Overview of the input data"
   ]
  },
  {
   "cell_type": "code",
   "execution_count": 87,
   "metadata": {
    "collapsed": false
   },
   "outputs": [
    {
     "data": {
      "text/html": [
       "<div style=\"max-height:1000px;max-width:1500px;overflow:auto;\">\n",
       "<table border=\"1\" class=\"dataframe\">\n",
       "  <thead>\n",
       "    <tr style=\"text-align: right;\">\n",
       "      <th></th>\n",
       "      <th>Informações Gerais</th>\n",
       "      <th>Unidade</th>\n",
       "      <th>Valores</th>\n",
       "    </tr>\n",
       "  </thead>\n",
       "  <tbody>\n",
       "    <tr>\n",
       "      <th>0</th>\n",
       "      <td>    Temperatura Inicial</td>\n",
       "      <td>        ºC</td>\n",
       "      <td> 0</td>\n",
       "    </tr>\n",
       "    <tr>\n",
       "      <th>1</th>\n",
       "      <td>      Temperatura Final</td>\n",
       "      <td>        ºC</td>\n",
       "      <td> 0</td>\n",
       "    </tr>\n",
       "    <tr>\n",
       "      <th>2</th>\n",
       "      <td>             Rugosidade</td>\n",
       "      <td>         m</td>\n",
       "      <td> 0</td>\n",
       "    </tr>\n",
       "    <tr>\n",
       "      <th>3</th>\n",
       "      <td>       Calor específico</td>\n",
       "      <td> J/(kg.ºC)</td>\n",
       "      <td> 0</td>\n",
       "    </tr>\n",
       "    <tr>\n",
       "      <th>4</th>\n",
       "      <td>       Massa específica</td>\n",
       "      <td>     kg/m³</td>\n",
       "      <td> 0</td>\n",
       "    </tr>\n",
       "    <tr>\n",
       "      <th>5</th>\n",
       "      <td>            Viscosidade</td>\n",
       "      <td>      m²/s</td>\n",
       "      <td> 0</td>\n",
       "    </tr>\n",
       "    <tr>\n",
       "      <th>6</th>\n",
       "      <td> Minor loss coefficient</td>\n",
       "      <td>       N/A</td>\n",
       "      <td> 0</td>\n",
       "    </tr>\n",
       "    <tr>\n",
       "      <th>7</th>\n",
       "      <td>         Entrada máxima</td>\n",
       "      <td>       bar</td>\n",
       "      <td> 0</td>\n",
       "    </tr>\n",
       "    <tr>\n",
       "      <th>8</th>\n",
       "      <td>         Retorno mínimo</td>\n",
       "      <td>       bar</td>\n",
       "      <td> 0</td>\n",
       "    </tr>\n",
       "    <tr>\n",
       "      <th>9</th>\n",
       "      <td>          Condutividade</td>\n",
       "      <td>   W/(m.K)</td>\n",
       "      <td> 0</td>\n",
       "    </tr>\n",
       "  </tbody>\n",
       "</table>\n",
       "</div>"
      ],
      "text/plain": [
       "       Informações Gerais    Unidade  Valores\n",
       "0     Temperatura Inicial         ºC        0\n",
       "1       Temperatura Final         ºC        0\n",
       "2              Rugosidade          m        0\n",
       "3        Calor específico  J/(kg.ºC)        0\n",
       "4        Massa específica      kg/m³        0\n",
       "5             Viscosidade       m²/s        0\n",
       "6  Minor loss coefficient        N/A        0\n",
       "7          Entrada máxima        bar        0\n",
       "8          Retorno mínimo        bar        0\n",
       "9           Condutividade    W/(m.K)        0"
      ]
     },
     "execution_count": 87,
     "metadata": {},
     "output_type": "execute_result"
    }
   ],
   "source": [
    "#Initialyzing Pandas to create table\n",
    "Hydr = {'Unidade':['ºC','ºC','m','J/(kg.ºC)','kg/m³','m²/s','N/A','bar','bar','W/(m.K)'],\n",
    "           'Valores': [tii.value, too.value, Rug.value, calor.value, massaEspec.value,\n",
    "                       visco.value, minor.value, Inmax.value, Retmin.value, condut.value],\n",
    "           'Informações Gerais':['Temperatura Inicial','Temperatura Final','Rugosidade','Calor específico','Massa específica',\n",
    "                                 'Viscosidade', 'Minor loss coefficient','Entrada máxima','Retorno mínimo','Condutividade']}\n",
    "DataFrame(Hydr)"
   ]
  },
  {
   "cell_type": "markdown",
   "metadata": {},
   "source": [
    "---\n",
    "## <span style=\"color:blue\">Hydraulic Output</span><a id='Hydraulic Output'> </a>"
   ]
  },
  {
   "cell_type": "markdown",
   "metadata": {},
   "source": [
    "### Potência dissipada/bobina (W)<a id='Potência dissipada/bobina (W)'> </a>"
   ]
  },
  {
   "cell_type": "code",
   "execution_count": 88,
   "metadata": {
    "collapsed": false
   },
   "outputs": [
    {
     "data": {
      "text/plain": [
       "P == P_máx/N_b"
      ]
     },
     "execution_count": 88,
     "metadata": {},
     "output_type": "execute_result"
    }
   ],
   "source": [
    "Poten = Eq(Pot,Power/Nb)\n",
    "Poten"
   ]
  },
  {
   "cell_type": "code",
   "execution_count": 89,
   "metadata": {
    "collapsed": false
   },
   "outputs": [
    {
     "data": {
      "text/plain": [
       "nan"
      ]
     },
     "execution_count": 89,
     "metadata": {},
     "output_type": "execute_result"
    }
   ],
   "source": [
    "potenn = Poten.rhs.subs({Power:Potencia.rhs, Nb:Nbb.value})\n",
    "potenn"
   ]
  },
  {
   "cell_type": "markdown",
   "metadata": {},
   "source": [
    "### Diâmetro interno do condutor (m)"
   ]
  },
  {
   "cell_type": "code",
   "execution_count": 90,
   "metadata": {
    "collapsed": false
   },
   "outputs": [
    {
     "data": {
      "text/plain": [
       "D_interno == 0"
      ]
     },
     "execution_count": 90,
     "metadata": {},
     "output_type": "execute_result"
    }
   ],
   "source": [
    "diametro = Eq(D_in,Dia.rhs/1000)\n",
    "diametro"
   ]
  },
  {
   "cell_type": "markdown",
   "metadata": {},
   "source": [
    "### Área molhada do condutor (m²)"
   ]
  },
  {
   "cell_type": "code",
   "execution_count": 91,
   "metadata": {
    "collapsed": false
   },
   "outputs": [
    {
     "data": {
      "text/plain": [
       "Area_cond. == D_interno**2*\\pi/4"
      ]
     },
     "execution_count": 91,
     "metadata": {},
     "output_type": "execute_result"
    }
   ],
   "source": [
    "A = Eq(area,p_i*(D_in)**2/4)\n",
    "A"
   ]
  },
  {
   "cell_type": "code",
   "execution_count": 92,
   "metadata": {
    "collapsed": false
   },
   "outputs": [
    {
     "data": {
      "text/plain": [
       "0"
      ]
     },
     "execution_count": 92,
     "metadata": {},
     "output_type": "execute_result"
    }
   ],
   "source": [
    "Area = A.rhs.subs({p_i:np.pi, D_in:diametro.rhs})\n",
    "Area"
   ]
  },
  {
   "cell_type": "markdown",
   "metadata": {},
   "source": [
    "### <span style=\"color:red\">Vazão/Bobina (l/min)</span><a id='Vazão/Bobina (l/min)'> </a>"
   ]
  },
  {
   "cell_type": "code",
   "execution_count": 93,
   "metadata": {
    "collapsed": false
   },
   "outputs": [
    {
     "data": {
      "text/plain": [
       "\\phi_total == 60000*P/(M_{H_2O}*c_{H_2O}*(-T_in + T_out))"
      ]
     },
     "execution_count": 93,
     "metadata": {},
     "output_type": "execute_result"
    }
   ],
   "source": [
    "vazao = Eq(Vz,Pot/(MassaEsp*CalorEsp*(To-Ti))*1000*60)\n",
    "vazao"
   ]
  },
  {
   "cell_type": "code",
   "execution_count": 94,
   "metadata": {
    "collapsed": false
   },
   "outputs": [
    {
     "data": {
      "text/plain": [
       "nan"
      ]
     },
     "execution_count": 94,
     "metadata": {},
     "output_type": "execute_result"
    }
   ],
   "source": [
    "Vazao = vazao.rhs.subs({Pot:potenn, MassaEsp:massaEspec.value,\n",
    "                         CalorEsp:calor.value, To:too.value, Ti:tii.value})\n",
    "Vazao"
   ]
  },
  {
   "cell_type": "markdown",
   "metadata": {},
   "source": [
    "### Velocidade média da água (m/s)"
   ]
  },
  {
   "cell_type": "code",
   "execution_count": 95,
   "metadata": {
    "collapsed": false
   },
   "outputs": [
    {
     "data": {
      "text/plain": [
       "nan"
      ]
     },
     "execution_count": 95,
     "metadata": {},
     "output_type": "execute_result"
    }
   ],
   "source": [
    "Velocidade = (Vazao/1000/60)/Area\n",
    "Velocidade"
   ]
  },
  {
   "cell_type": "markdown",
   "metadata": {},
   "source": [
    "### Coeficiente de Reynolds"
   ]
  },
  {
   "cell_type": "code",
   "execution_count": 96,
   "metadata": {
    "collapsed": false
   },
   "outputs": [
    {
     "data": {
      "text/plain": [
       "Re == D_interno*V/\\mu"
      ]
     },
     "execution_count": 96,
     "metadata": {},
     "output_type": "execute_result"
    }
   ],
   "source": [
    "Coef_Rey = Eq(Re,D_in*V/Visco)\n",
    "Coef_Rey"
   ]
  },
  {
   "cell_type": "code",
   "execution_count": 97,
   "metadata": {
    "collapsed": false
   },
   "outputs": [
    {
     "data": {
      "text/plain": [
       "0"
      ]
     },
     "execution_count": 97,
     "metadata": {},
     "output_type": "execute_result"
    }
   ],
   "source": [
    "Coef_Reynolds = Coef_Rey.rhs.subs({D_in:diametro.rhs, V:Velocidade, Visco:visco.value})\n",
    "Coef_Reynolds"
   ]
  },
  {
   "cell_type": "markdown",
   "metadata": {},
   "source": [
    "### Diâmetro hidráulico"
   ]
  },
  {
   "cell_type": "code",
   "execution_count": 98,
   "metadata": {
    "collapsed": false
   },
   "outputs": [
    {
     "data": {
      "text/plain": [
       "D_hidráulico == 4*Area_cond./(D_interno*\\pi)"
      ]
     },
     "execution_count": 98,
     "metadata": {},
     "output_type": "execute_result"
    }
   ],
   "source": [
    "Diameter = Eq(D_hidra,4*area/(p_i*D_in))\n",
    "Diameter"
   ]
  },
  {
   "cell_type": "code",
   "execution_count": 99,
   "metadata": {
    "collapsed": false
   },
   "outputs": [
    {
     "data": {
      "text/plain": [
       "0"
      ]
     },
     "execution_count": 99,
     "metadata": {},
     "output_type": "execute_result"
    }
   ],
   "source": [
    "Dia_meter = Diameter.rhs.subs({area:Area, p_i:np.pi, D_in:diametro.rhs})\n",
    "Dia_meter"
   ]
  },
  {
   "cell_type": "markdown",
   "metadata": {},
   "source": [
    "### $\\epsilon$ /D"
   ]
  },
  {
   "cell_type": "code",
   "execution_count": 100,
   "metadata": {
    "collapsed": false
   },
   "outputs": [
    {
     "data": {
      "text/plain": [
       "nan"
      ]
     },
     "execution_count": 100,
     "metadata": {},
     "output_type": "execute_result"
    }
   ],
   "source": [
    "razao = Rug.value/diametro.rhs\n",
    "razao"
   ]
  },
  {
   "cell_type": "markdown",
   "metadata": {},
   "source": [
    "### Friction factor - f (eq. de Swamee–Jain)"
   ]
  },
  {
   "cell_type": "code",
   "execution_count": 101,
   "metadata": {
    "collapsed": false
   },
   "outputs": [
    {
     "data": {
      "text/latex": [
       "$$f(V, D, \\nu, \\epsilon) = \\frac{0.25}{\\log(\\frac{\\epsilon}{3.7 \\cdot D}+\\frac{5.74}{RE(V, D, \\nu)^{0.9}})^2}$$"
      ],
      "text/plain": [
       "<IPython.core.display.Math object>"
      ]
     },
     "metadata": {},
     "output_type": "display_data"
    }
   ],
   "source": [
    "from IPython.display import display, Math, Latex\n",
    "display(Math(r'f(V, D, \\nu, \\epsilon) = \\frac{0.25}{\\log(\\frac{\\epsilon}{3.7 \\cdot D}+\\frac{5.74}{RE(V, D, \\nu)^{0.9}})^2}'))"
   ]
  },
  {
   "cell_type": "code",
   "execution_count": 102,
   "metadata": {
    "collapsed": false
   },
   "outputs": [],
   "source": [
    "#$$f(V, D, \\nu, \\epsilon) = \\frac{0.25}{\\log(\\frac{\\epsilon}{3.7 \\cdot D}+\\frac{5.74}{RE(V, D, \\nu)^{0.9}})^2}$$"
   ]
  },
  {
   "cell_type": "code",
   "execution_count": 103,
   "metadata": {
    "collapsed": false
   },
   "outputs": [
    {
     "data": {
      "text/plain": [
       "nan"
      ]
     },
     "execution_count": 103,
     "metadata": {},
     "output_type": "execute_result"
    }
   ],
   "source": [
    "0.25/(math.log((razao/3.7+5.74/(Coef_Reynolds**0.9)),10)**2)"
   ]
  },
  {
   "cell_type": "markdown",
   "metadata": {},
   "source": [
    "### Friction factor - f (eq. de Haaland)"
   ]
  },
  {
   "cell_type": "code",
   "execution_count": 104,
   "metadata": {
    "collapsed": false
   },
   "outputs": [
    {
     "data": {
      "text/latex": [
       "$$\\frac{1}{\\sqrt{f}} = -1.8 \\log((\\frac{e/D}{3.7})^{1.11}+\\frac{6.9}{Re}))$$"
      ],
      "text/plain": [
       "<IPython.core.display.Math object>"
      ]
     },
     "metadata": {},
     "output_type": "display_data"
    }
   ],
   "source": [
    "from IPython.display import display, Math, Latex\n",
    "display(Math(r'\\frac{1}{\\sqrt{f}} = -1.8 \\log((\\frac{e/D}{3.7})^{1.11}+\\frac{6.9}{Re}))'))"
   ]
  },
  {
   "cell_type": "code",
   "execution_count": 105,
   "metadata": {
    "collapsed": false
   },
   "outputs": [
    {
     "data": {
      "text/plain": [
       "f_Haaland == nan"
      ]
     },
     "execution_count": 105,
     "metadata": {},
     "output_type": "execute_result"
    }
   ],
   "source": [
    "Haaland =Eq(f,1/(-1.8*math.log((razao/3.7)**1.11+6.9/Coef_Reynolds,10))**2)\n",
    "Haaland"
   ]
  },
  {
   "cell_type": "markdown",
   "metadata": {},
   "source": [
    "### R/D"
   ]
  },
  {
   "cell_type": "code",
   "execution_count": 106,
   "metadata": {
    "collapsed": false
   },
   "outputs": [
    {
     "data": {
      "text/plain": [
       "nan"
      ]
     },
     "execution_count": 106,
     "metadata": {},
     "output_type": "execute_result"
    }
   ],
   "source": [
    "R00.value/Dia.rhs"
   ]
  },
  {
   "cell_type": "markdown",
   "metadata": {},
   "source": [
    "### Número de curvas (90°) por circuito hidr."
   ]
  },
  {
   "cell_type": "code",
   "execution_count": 107,
   "metadata": {
    "collapsed": false
   },
   "outputs": [
    {
     "data": {
      "text/plain": [
       "N_curvas == 4*m*n"
      ]
     },
     "execution_count": 107,
     "metadata": {},
     "output_type": "execute_result"
    }
   ],
   "source": [
    "Nc=Eq(Ncurv, n*m*4)\n",
    "Nc"
   ]
  },
  {
   "cell_type": "code",
   "execution_count": 108,
   "metadata": {
    "collapsed": false
   },
   "outputs": [
    {
     "data": {
      "text/plain": [
       "0"
      ]
     },
     "execution_count": 108,
     "metadata": {},
     "output_type": "execute_result"
    }
   ],
   "source": [
    "Num_curva = Nc.rhs.subs({n:nn.value, m:mm.value})\n",
    "Num_curva"
   ]
  },
  {
   "cell_type": "markdown",
   "metadata": {},
   "source": [
    "### <span style=\"color:red\">Perda de carga total (com 84 curvas)- hf (bar)</span><a id='Perda de carga total (com 84 curvas)- hf (bar)'> </a>"
   ]
  },
  {
   "cell_type": "code",
   "execution_count": 109,
   "metadata": {
    "collapsed": false
   },
   "outputs": [
    {
     "data": {
      "text/plain": [
       "Perda_carga == 0.00510204081632653*V**2*(D_interno*N_curvas*\\gamma + L_fio*f_Haaland)/D_interno"
      ]
     },
     "execution_count": 109,
     "metadata": {},
     "output_type": "execute_result"
    }
   ],
   "source": [
    "Equacao = Eq(Pd,f*(L_fio/D_in*(V**2/(2*9.8)))/10+Ncurv*(gam*V**2/(2*9.8))/10)\n",
    "Equa=Equacao.simplify()\n",
    "Equa"
   ]
  },
  {
   "cell_type": "code",
   "execution_count": 110,
   "metadata": {
    "collapsed": false
   },
   "outputs": [
    {
     "data": {
      "text/plain": [
       "nan"
      ]
     },
     "execution_count": 110,
     "metadata": {},
     "output_type": "execute_result"
    }
   ],
   "source": [
    "Solution = Equacao.rhs.subs({f:Haaland.rhs, L_fio:Len/1000, D_in:diametro.rhs,\n",
    "                          V:Velocidade, Ncurv:Num_curva, gam:minor.value})\n",
    "Solution"
   ]
  },
  {
   "cell_type": "markdown",
   "metadata": {},
   "source": [
    "### <span style=\"color:red\">Vazão total em um ímã (l/min)</span> <a id='Vazão total em um ímã (l/min)'> </a>"
   ]
  },
  {
   "cell_type": "code",
   "execution_count": 111,
   "metadata": {
    "collapsed": false
   },
   "outputs": [
    {
     "data": {
      "text/plain": [
       "\\phi_total == N_b*\\phi_bobina"
      ]
     },
     "execution_count": 111,
     "metadata": {},
     "output_type": "execute_result"
    }
   ],
   "source": [
    "vaza =Eq(Vz, Nb*Vb )\n",
    "vaza"
   ]
  },
  {
   "cell_type": "code",
   "execution_count": 112,
   "metadata": {
    "collapsed": false
   },
   "outputs": [
    {
     "data": {
      "text/plain": [
       "nan"
      ]
     },
     "execution_count": 112,
     "metadata": {},
     "output_type": "execute_result"
    }
   ],
   "source": [
    "Vazao*Nbb.value"
   ]
  },
  {
   "cell_type": "markdown",
   "metadata": {},
   "source": [
    "<a href='#Inicio'>Back to the Table of Contents</a>"
   ]
  }
 ],
 "metadata": {
  "kernelspec": {
   "display_name": "Python 3",
   "language": "python",
   "name": "python3"
  },
  "language_info": {
   "codemirror_mode": {
    "name": "ipython",
    "version": 3
   },
   "file_extension": ".py",
   "mimetype": "text/x-python",
   "name": "python",
   "nbconvert_exporter": "python",
   "pygments_lexer": "ipython3",
   "version": "3.4.1"
  }
 },
 "nbformat": 4,
 "nbformat_minor": 0
}
